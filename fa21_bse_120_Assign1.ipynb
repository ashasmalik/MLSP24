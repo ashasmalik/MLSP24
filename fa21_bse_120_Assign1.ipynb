{
  "nbformat": 4,
  "nbformat_minor": 0,
  "metadata": {
    "colab": {
      "provenance": [],
      "authorship_tag": "ABX9TyOKMpu4DbON1KguCXlnB4js",
      "include_colab_link": true
    },
    "kernelspec": {
      "name": "python3",
      "display_name": "Python 3"
    },
    "language_info": {
      "name": "python"
    }
  },
  "cells": [
    {
      "cell_type": "markdown",
      "metadata": {
        "id": "view-in-github",
        "colab_type": "text"
      },
      "source": [
        "<a href=\"https://colab.research.google.com/github/ashasmalik/MLSP24/blob/main/fa21_bse_120_Assign1.ipynb\" target=\"_parent\"><img src=\"https://colab.research.google.com/assets/colab-badge.svg\" alt=\"Open In Colab\"/></a>"
      ]
    },
    {
      "cell_type": "markdown",
      "source": [
        "# 12th March 2024\n",
        "# CSC354 – Assignment1 – ML – Concept Learning\n",
        "# Malik Ashas Abbas\n",
        "# FA21-BSE-120\n",
        "# Candidate elimination algorithm\n"
      ],
      "metadata": {
        "id": "jEnLyZ2LhJnz"
      }
    },
    {
      "cell_type": "markdown",
      "source": [],
      "metadata": {
        "id": "gCOp4ychCFGZ"
      }
    },
    {
      "cell_type": "code",
      "execution_count": 17,
      "metadata": {
        "colab": {
          "base_uri": "https://localhost:8080/"
        },
        "id": "dYob15G3f_Aj",
        "outputId": "e1ef44d5-2ed6-4a99-b668-2ffe0a649c4c"
      },
      "outputs": [
        {
          "output_type": "stream",
          "name": "stdout",
          "text": [
            "Looking at point 1\n",
            "Specific after point 1 : ['big', 'red', 'circle']\n",
            "Generic after point 1 : [['?', '?', '?'], ['?', '?', '?'], ['?', '?', '?']]\n",
            "\n",
            "Looking at point 2\n",
            "Specific after point 2 : ['big', 'red', 'circle']\n",
            "Generic after point 2 : [['big', '?', '?'], ['?', '?', '?'], ['?', '?', 'circle']]\n",
            "\n",
            "Looking at point 3\n",
            "Specific after point 3 : ['?', 'red', '?']\n",
            "Generic after point 3 : [['big', '?', '?'], ['?', '?', '?'], ['?', '?', 'circle']]\n",
            "\n",
            "Looking at point 4\n",
            "Specific after point 4 : ['?', 'red', '?']\n",
            "Generic after point 4 : [['?', '?', '?'], ['?', 'red', '?'], ['?', '?', '?']]\n",
            "\n",
            "Looking at point 5\n",
            "Specific after point 5 : ['?', '?', '?']\n",
            "Generic after point 5 : [['?', '?', '?'], ['?', 'red', '?'], ['?', '?', '?']]\n",
            "\n",
            "Final Specific: ['?', '?', '?']\n",
            "Final Generic: [['?', 'red', '?']]\n"
          ]
        }
      ],
      "source": [
        "import pandas as pd\n",
        "import numpy as np\n",
        "\n",
        "data = pd.read_csv(\"table.csv\")\n",
        "\n",
        "features = np.array(data.iloc[:, :-1])\n",
        "target = np.array(data.iloc[:, -1])\n",
        "\n",
        "def learn(data, labels):\n",
        "  specific = list(data[0])\n",
        "  generic = [[\"?\"] * len(specific) for _ in range(len(specific))]\n",
        "\n",
        "  for i, point in enumerate(data):\n",
        "    print(\"Looking at point\", i + 1)\n",
        "\n",
        "    if labels[i] == \"yes\":\n",
        "      for j in range(len(point)):\n",
        "        if point[j] != specific[j]:\n",
        "          specific[j] = \"?\"\n",
        "\n",
        "    elif labels[i] == \"no\":\n",
        "      for j in range(len(point)):\n",
        "        if point[j] != specific[j]:\n",
        "          generic[j][j] = specific[j]\n",
        "        else:\n",
        "          generic[j][j] = \"?\"\n",
        "\n",
        "    print(\"Specific after point\", i + 1, \":\", specific)\n",
        "    print(\"Generic after point\", i + 1, \":\", generic)\n",
        "    print()\n",
        "\n",
        "  for row in generic:\n",
        "    if all(x == \"?\" for x in row):\n",
        "      generic.remove(row)\n",
        "\n",
        "  return specific, generic\n",
        "\n",
        "final_specific, final_generic = learn(features, target)\n",
        "\n",
        "print(\"Final Specific:\", final_specific)\n",
        "print(\"Final Generic:\", final_generic)\n"
      ]
    }
  ]
}