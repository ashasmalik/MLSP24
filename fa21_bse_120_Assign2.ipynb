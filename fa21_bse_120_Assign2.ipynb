{
  "nbformat": 4,
  "nbformat_minor": 0,
  "metadata": {
    "colab": {
      "provenance": [],
      "authorship_tag": "ABX9TyPBqzABMJOo8AABlJUdK5Hj",
      "include_colab_link": true
    },
    "kernelspec": {
      "name": "python3",
      "display_name": "Python 3"
    },
    "language_info": {
      "name": "python"
    }
  },
  "cells": [
    {
      "cell_type": "markdown",
      "metadata": {
        "id": "view-in-github",
        "colab_type": "text"
      },
      "source": [
        "<a href=\"https://colab.research.google.com/github/ashasmalik/MLSP24/blob/main/fa21_bse_120_Assign2.ipynb\" target=\"_parent\"><img src=\"https://colab.research.google.com/assets/colab-badge.svg\" alt=\"Open In Colab\"/></a>"
      ]
    },
    {
      "cell_type": "markdown",
      "source": [
        "# 25th March 2024\n",
        "# CSC354 – Assignment2 – ML – Decision Trees\n",
        "# Malik Ashas Abbas\n",
        "# FA21-BSE-120\n",
        "# classification task using decision trees.\n",
        "# regression task using decision trees.\n"
      ],
      "metadata": {
        "id": "jEnLyZ2LhJnz"
      }
    },
    {
      "cell_type": "markdown",
      "source": [
        "** Classification task using decision trees.**"
      ],
      "metadata": {
        "id": "gCOp4ychCFGZ"
      }
    },
    {
      "cell_type": "code",
      "execution_count": 4,
      "metadata": {
        "colab": {
          "base_uri": "https://localhost:8080/"
        },
        "id": "dYob15G3f_Aj",
        "outputId": "bf4d70ca-3d09-4340-ea63-2477b0e31abb"
      },
      "outputs": [
        {
          "output_type": "stream",
          "name": "stdout",
          "text": [
            "  dataset        x        y\n",
            "0    dino  55.3846  97.1795\n",
            "1    dino  51.5385  96.0256\n",
            "2    dino  46.1538  94.4872\n",
            "3    dino  42.8205  91.4103\n",
            "4    dino  40.7692  88.3333\n",
            "Decision Tree Accuracy: 0.3972972972972973\n",
            "Random Forest Accuracy: 0.46216216216216216\n",
            "Best parameters for Decision Tree: {'criterion': 'gini', 'max_depth': 20, 'min_samples_leaf': 1, 'min_samples_split': 2}\n",
            "Best score for Decision Tree: 0.4376775080164911\n"
          ]
        },
        {
          "output_type": "stream",
          "name": "stderr",
          "text": [
            "/usr/local/lib/python3.10/dist-packages/sklearn/ensemble/_forest.py:424: FutureWarning: `max_features='auto'` has been deprecated in 1.1 and will be removed in 1.3. To keep the past behaviour, explicitly set `max_features='sqrt'` or remove this parameter as it is also the default value for RandomForestClassifiers and ExtraTreesClassifiers.\n",
            "  warn(\n",
            "/usr/local/lib/python3.10/dist-packages/sklearn/ensemble/_forest.py:424: FutureWarning: `max_features='auto'` has been deprecated in 1.1 and will be removed in 1.3. To keep the past behaviour, explicitly set `max_features='sqrt'` or remove this parameter as it is also the default value for RandomForestClassifiers and ExtraTreesClassifiers.\n",
            "  warn(\n",
            "/usr/local/lib/python3.10/dist-packages/sklearn/ensemble/_forest.py:424: FutureWarning: `max_features='auto'` has been deprecated in 1.1 and will be removed in 1.3. To keep the past behaviour, explicitly set `max_features='sqrt'` or remove this parameter as it is also the default value for RandomForestClassifiers and ExtraTreesClassifiers.\n",
            "  warn(\n",
            "/usr/local/lib/python3.10/dist-packages/sklearn/ensemble/_forest.py:424: FutureWarning: `max_features='auto'` has been deprecated in 1.1 and will be removed in 1.3. To keep the past behaviour, explicitly set `max_features='sqrt'` or remove this parameter as it is also the default value for RandomForestClassifiers and ExtraTreesClassifiers.\n",
            "  warn(\n",
            "/usr/local/lib/python3.10/dist-packages/sklearn/ensemble/_forest.py:424: FutureWarning: `max_features='auto'` has been deprecated in 1.1 and will be removed in 1.3. To keep the past behaviour, explicitly set `max_features='sqrt'` or remove this parameter as it is also the default value for RandomForestClassifiers and ExtraTreesClassifiers.\n",
            "  warn(\n",
            "/usr/local/lib/python3.10/dist-packages/sklearn/ensemble/_forest.py:424: FutureWarning: `max_features='auto'` has been deprecated in 1.1 and will be removed in 1.3. To keep the past behaviour, explicitly set `max_features='sqrt'` or remove this parameter as it is also the default value for RandomForestClassifiers and ExtraTreesClassifiers.\n",
            "  warn(\n"
          ]
        },
        {
          "output_type": "stream",
          "name": "stdout",
          "text": [
            "Best parameters for Random Forest: {'n_estimators': 50, 'min_samples_split': 2, 'min_samples_leaf': 2, 'max_features': 'auto', 'max_depth': None, 'bootstrap': True}\n",
            "Best score for Random Forest: 0.4742395785616124\n"
          ]
        }
      ],
      "source": [
        "import pandas as pd\n",
        "from sklearn.model_selection import train_test_split, GridSearchCV, RandomizedSearchCV\n",
        "from sklearn.tree import DecisionTreeClassifier\n",
        "from sklearn.ensemble import RandomForestClassifier\n",
        "from sklearn.metrics import accuracy_score\n",
        "\n",
        "data = pd.read_csv(\"/content/datasaurus.csv\")\n",
        "\n",
        "print(data.head())\n",
        "\n",
        "features = data.drop('dataset', axis=1)\n",
        "labels = data['dataset']\n",
        "\n",
        "X_train, X_test, y_train, y_test = train_test_split(features, labels, test_size=0.2, random_state=42)\n",
        "\n",
        "tree_classifier = DecisionTreeClassifier(random_state=42)\n",
        "forest_classifier = RandomForestClassifier(random_state=42)\n",
        "\n",
        "tree_classifier.fit(X_train, y_train)\n",
        "forest_classifier.fit(X_train, y_train)\n",
        "\n",
        "tree_predictions = tree_classifier.predict(X_test)\n",
        "forest_predictions = forest_classifier.predict(X_test)\n",
        "\n",
        "tree_accuracy = accuracy_score(y_test, tree_predictions)\n",
        "forest_accuracy = accuracy_score(y_test, forest_predictions)\n",
        "\n",
        "print(\"Decision Tree Accuracy:\", tree_accuracy)\n",
        "print(\"Random Forest Accuracy:\", forest_accuracy)\n",
        "\n",
        "tree_param_grid = {\n",
        "    'criterion': ['gini'],\n",
        "    'max_depth': [None, 20],\n",
        "    'min_samples_split': [2],\n",
        "    'min_samples_leaf': [1]\n",
        "}\n",
        "\n",
        "tree_grid_search = GridSearchCV(DecisionTreeClassifier(random_state=42), tree_param_grid, cv=5)\n",
        "tree_grid_search.fit(X_train, y_train)\n",
        "\n",
        "print(\"Best parameters for Decision Tree:\", tree_grid_search.best_params_)\n",
        "print(\"Best score for Decision Tree:\", tree_grid_search.best_score_)\n",
        "\n",
        "forest_param_dist = {\n",
        "    'n_estimators': [50],\n",
        "    'max_features': ['auto'],\n",
        "    'max_depth': [80] + [None],\n",
        "    'min_samples_split': [2],\n",
        "    'min_samples_leaf': [2],\n",
        "    'bootstrap': [True]\n",
        "}\n",
        "forest_random_search = RandomizedSearchCV(RandomForestClassifier(random_state=42), forest_param_dist, n_iter=1, cv=5, random_state=42)\n",
        "forest_random_search.fit(X_train, y_train)\n",
        "\n",
        "print(\"Best parameters for Random Forest:\", forest_random_search.best_params_)\n",
        "print(\"Best score for Random Forest:\", forest_random_search.best_score_)"
      ]
    },
    {
      "cell_type": "markdown",
      "source": [
        "**Regression task using decision trees.**\n"
      ],
      "metadata": {
        "id": "Fz8dcj_YB7eL"
      }
    },
    {
      "cell_type": "code",
      "source": [
        "import pandas as pd\n",
        "from sklearn.model_selection import train_test_split, GridSearchCV, RandomizedSearchCV\n",
        "from sklearn.tree import DecisionTreeRegressor\n",
        "from sklearn.metrics import mean_squared_error\n",
        "\n",
        "car_data = pd.read_csv(\"cars-dataset.csv\")\n",
        "\n",
        "print(car_data.head())\n",
        "\n",
        "car_encoded = pd.get_dummies(car_data, drop_first=True)\n",
        "\n",
        "features = car_encoded.drop('selling_price', axis=1)\n",
        "target = car_encoded['selling_price']\n",
        "\n",
        "X_train, X_test, y_train, y_test = train_test_split(features, target, test_size=0.2, random_state=42)\n",
        "\n",
        "regressor = DecisionTreeRegressor(random_state=42)\n",
        "\n",
        "regressor.fit(X_train, y_train)\n",
        "\n",
        "y_pred = regressor.predict(X_test)\n",
        "\n",
        "rmse = mean_squared_error(y_test, y_pred, squared=False)\n",
        "print(\"RMSE:\", rmse)\n",
        "\n",
        "params = {\n",
        "    'max_depth': [None, 10, 20, 30, 40, 50],\n",
        "    'min_samples_split': [2, 5, 10],\n",
        "    'min_samples_leaf': [1, 2, 4]\n",
        "}\n",
        "\n",
        "search = GridSearchCV(DecisionTreeRegressor(random_state=42), params, cv=5)\n",
        "search.fit(X_train, y_train)\n",
        "\n",
        "print(\"Best parameters:\", search.best_params_)\n",
        "print(\"Best score:\", search.best_score_)\n",
        "\n"
      ],
      "metadata": {
        "colab": {
          "base_uri": "https://localhost:8080/"
        },
        "id": "WVng0VTOhC5b",
        "outputId": "1b8949e7-8ab4-4a7b-8207-f1c113982edb"
      },
      "execution_count": 6,
      "outputs": [
        {
          "output_type": "stream",
          "name": "stdout",
          "text": [
            "   year  km_driven    fuel seller_type transmission         owner  \\\n",
            "0  2007      70000  Petrol  Individual       Manual   First Owner   \n",
            "1  2007      50000  Petrol  Individual       Manual   First Owner   \n",
            "2  2012     100000  Diesel  Individual       Manual   First Owner   \n",
            "3  2017      46000  Petrol  Individual       Manual   First Owner   \n",
            "4  2014     141000  Diesel  Individual       Manual  Second Owner   \n",
            "\n",
            "   selling_price  \n",
            "0          60000  \n",
            "1         135000  \n",
            "2         600000  \n",
            "3         250000  \n",
            "4         450000  \n",
            "RMSE: 452514.74534208747\n",
            "Best parameters: {'max_depth': 10, 'min_samples_leaf': 4, 'min_samples_split': 10}\n",
            "Best score: 0.6641756916269681\n"
          ]
        }
      ]
    },
    {
      "cell_type": "code",
      "source": [],
      "metadata": {
        "id": "n2YDepi_Ctcs"
      },
      "execution_count": null,
      "outputs": []
    }
  ]
}